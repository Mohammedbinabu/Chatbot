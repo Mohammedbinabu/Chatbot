{
 "cells": [
  {
   "cell_type": "markdown",
   "metadata": {},
   "source": [
    "**import libraries**"
   ]
  },
  {
   "cell_type": "code",
   "execution_count": 1,
   "metadata": {},
   "outputs": [],
   "source": [
    "#FAISS Vectoredatabase\n",
    "#from langchain_community.vectorstores import FAISS"
   ]
  },
  {
   "cell_type": "code",
   "execution_count": 2,
   "metadata": {},
   "outputs": [],
   "source": [
    "from langchain_community.document_loaders import TextLoader\n",
    "from langchain_community.vectorstores import FAISS\n",
    "from langchain_huggingface import HuggingFaceEmbeddings\n",
    "from langchain_text_splitters import CharacterTextSplitter"
   ]
  },
  {
   "cell_type": "markdown",
   "metadata": {},
   "source": [
    "**Loading text data**"
   ]
  },
  {
   "cell_type": "code",
   "execution_count": 3,
   "metadata": {},
   "outputs": [],
   "source": [
    "text = TextLoader('TEXT_FILE.txt')\n",
    "text = text.load()"
   ]
  },
  {
   "cell_type": "code",
   "execution_count": 4,
   "metadata": {},
   "outputs": [
    {
     "data": {
      "text/plain": [
       "[Document(metadata={'source': 'TEXT_FILE.txt'}, page_content='William Shakespeare[a] (c. 23[b] April 1564 – 23 April 1616)[c] was an English playwright, poet and actor. He is widely regarded as the greatest writer in the English language and the world\\'s pre-eminent dramatist. He is often called England\\'s national poet and the \"Bard of Avon\" (or simply \"the Bard\"). His extant works, including collaborations, consist of some 39 plays, 154 sonnets, three long narrative poems and a few other verses, some of uncertain authorship. His plays have been translated into every major living language and are performed more often than those of any other playwright. Shakespeare remains arguably the most influential writer in the English language, and his works continue to be studied and reinterpreted.\\n\\nShakespeare was born and raised in Stratford-upon-Avon, Warwickshire. At the age of 18, he married Anne Hathaway, with whom he had three children: Susanna, and twins Hamnet and Judith. Sometime between 1585 and 1592, he began a successful career in London as an actor, writer, and part-owner (\"sharer\") of a playing company called the Lord Chamberlain\\'s Men, later known as the King\\'s Men after the ascension of King James VI of Scotland to the English throne. At age 49 (around 1613), he appears to have retired to Stratford, where he died three years later. Few records of Shakespeare\\'s private life survive; this has stimulated considerable speculation about such matters as his physical appearance, his sexuality, his religious beliefs and even certain fringe theories as to whether the works attributed to him were written by others.\\n\\nShakespeare produced most of his known works between 1589 and 1613. His early plays were primarily comedies and histories and are regarded as some of the best works produced in these genres. He then wrote mainly tragedies until 1608, among them Hamlet, Othello, King Lear and Macbeth, all considered to be among the finest works in English. In the last phase of his life, he wrote tragicomedies (also known as romances) such as The Winter\\'s Tale and The Tempest, and collaborated with other playwrights.\\n\\nMany of Shakespeare\\'s plays were published in editions of varying quality and accuracy during his lifetime. However, in 1623, John Heminges and Henry Condell, two fellow actors and friends of Shakespeare\\'s, published a more definitive text known as the First Folio, a posthumous collected edition of Shakespeare\\'s dramatic works that includes 36 of his plays. Its Preface was a prescient poem by Ben Jonson, a former rival of Shakespeare, who hailed Shakespeare with the now famous epithet: \"not of an age, but for all time\".\\n\\nShakespeare was the son of John Shakespeare, an alderman and a successful glover (glove-maker) originally from Snitterfield in Warwickshire, and Mary Arden, the daughter of an affluent landowning family.[3] He was born in Stratford-upon-Avon, where he was baptised on 26 April 1564. His date of birth is unknown but is traditionally observed on 23 April, Saint George\\'s Day.[1] This date, which can be traced to William Oldys and George Steevens, has proved appealing to biographers because Shakespeare died on the same date in 1616.[4][5] He was the third of eight children, and the eldest surviving son.[6]\\n\\nAlthough no attendance records for the period survive, most biographers agree that Shakespeare was probably educated at the King\\'s New School in Stratford,[7][8][9] a free school chartered in 1553,[10] about a quarter-mile (400 m) from his home. Grammar schools varied in quality during the Elizabethan era, but grammar school curricula were largely similar: the basic Latin text was standardised by royal decree,[11][12] and the school would have provided an intensive education in grammar based upon Latin classical authors.[13]\\n\\nAt the age of 18, Shakespeare married 26-year-old Anne Hathaway. The consistory court of the Diocese of Worcester issued a marriage licence on 27 November 1582. The next day, two of Hathaway\\'s neighbours posted bonds guaranteeing that no lawful claims impeded the marriage.[14] The ceremony may have been arranged in some haste since the Worcester chancellor allowed the marriage banns to be read once instead of the usual three times,[15][16] and six months after the marriage Anne gave birth to a daughter, Susanna, baptised 26 May 1583.[17] Twins, son Hamnet and daughter Judith, followed almost two years later and were baptised 2 February 1585.[18] Hamnet died of unknown causes at the age of 11 and was buried 11 August 1596.\\nAfter the birth of the twins, Shakespeare left few historical traces until he is mentioned as part of the London theatre scene in 1592. The exception is the appearance of his name in the \"complaints bill\" of a law case before the Queen\\'s Bench court at Westminster dated Michaelmas Term 1588 and 9 October 1589.[20] Scholars refer to the years between 1585 and 1592 as Shakespeare\\'s \"lost years\".[21] Biographers attempting to account for this period have reported many apocryphal stories. Nicholas Rowe, Shakespeare\\'s first biographer, recounted a Stratford legend that Shakespeare fled the town for London to escape prosecution for deer poaching in the estate of local squire Thomas Lucy. Shakespeare is also supposed to have taken his revenge on Lucy by writing a scurrilous ballad about him.[22][23] Another 18th-century story has Shakespeare starting his theatrical career minding the horses of theatre patrons in London.[24] John Aubrey reported that Shakespeare had been a country schoolmaster.[25] Some 20th-century scholars suggested that Shakespeare may have been employed as a schoolmaster by Alexander Hoghton of Lancashire, a Catholic landowner who named a certain \"William Shakeshafte\" in his will.[26][27] Little evidence substantiates such stories other than hearsay collected after his death, and Shakeshafte was a common name in the Lancashire area.[28][29]\\n\\nLondon and theatrical career\\nIt is not known definitively when Shakespeare began writing, but contemporary allusions and records of performances show that several of his plays were on the London stage by 1592.[30] By then, he was sufficiently known in London to be attacked in print by the playwright Robert Greene in his Groats-Worth of Wit from that year:\\n\\n... there is an upstart Crow, beautified with our feathers, that with his Tiger\\'s heart wrapped in a Player\\'s hide, supposes he is as well able to bombast out a blank verse as the best of you: and being an absolute Johannes factotum, is in his own conceit the only Shake-scene in a country.[31]\\n\\nScholars differ on the exact meaning of Greene\\'s words,[31][32] but most agree that Greene was accusing Shakespeare of reaching above his rank in trying to match such university-educated writers as Christopher Marlowe, Thomas Nashe, and Greene himself (the so-called \"University Wits\").[33] The italicised phrase parodying the line \"Oh, tiger\\'s heart wrapped in a woman\\'s hide\" from Shakespeare\\'s Henry VI, Part 3, along with the pun \"Shake-scene\", clearly identify Shakespeare as Greene\\'s target. As used here, Johannes Factotum (\"Jack of all trades\") refers to a second-rate tinkerer with the work of others, rather than the more common \"universal genius\".[31][34]\\n\\nGreene\\'s attack is the earliest surviving mention of Shakespeare\\'s work in the theatre. Biographers suggest that his career may have begun any time from the mid-1580s to just before Greene\\'s remarks.[35][36][37] After 1594, Shakespeare\\'s plays were performed at The Theatre, in Shoreditch, only by the Lord Chamberlain\\'s Men, a company owned by a group of players, including Shakespeare, that soon became the leading playing company in London.[38] After the death of Queen Elizabeth in 1603, the company was awarded a royal patent by the new King James I, and changed its name to the King\\'s Men.[39]\\n\\nAll the world\\'s a stage,\\nand all the men and women merely players:\\nthey have their exits and their entrances;\\nand one man in his time plays many parts ...\\n\\n—As You Like It, Act II, Scene 7, 139–142[40]\\nIn 1599, a partnership of members of the company built their own theatre on the south bank of the River Thames, which they named the Globe. In 1608, the partnership also took over the Blackfriars indoor theatre. Extant records of Shakespeare\\'s property purchases and investments indicate that his association with the company made him a wealthy man,[41] and in 1597, he bought the second-largest house in Stratford, New Place, and in 1605, invested in a share of the parish tithes in Stratford.[42]\\n\\nSome of Shakespeare\\'s plays were published in quarto editions, beginning in 1594, and by 1598, his name had become a selling point and began to appear on the title pages.[43][44][45] Shakespeare continued to act in his own and other plays after his success as a playwright. The 1616 edition of Ben Jonson\\'s Works names him on the cast lists for Every Man in His Humour (1598) and Sejanus His Fall (1603).[46] The absence of his name from the 1605 cast list for Jonson\\'s Volpone is taken by some scholars as a sign that his acting career was nearing its end.[35] The First Folio of 1623, however, lists Shakespeare as one of \"the Principal Actors in all these Plays\", some of which were first staged after Volpone, although one cannot know for certain which roles he played.[47] In 1610, John Davies of Hereford wrote that \"good Will\" played \"kingly\" roles.[48] In 1709, Rowe passed down a tradition that Shakespeare played the ghost of Hamlet\\'s father.[49] Later traditions maintain that he also played Adam in As You Like It, and the Chorus in Henry V,[50][51] though scholars doubt the sources of that information.[52]\\n\\nThroughout his career, Shakespeare divided his time between London and Stratford. In 1596, the year before he bought New Place as his family home in Stratford, Shakespeare was living in the parish of St Helen\\'s, Bishopsgate, north of the River Thames.[53][54] He moved across the river to Southwark by 1599, the same year his company constructed the Globe Theatre there.[53][55] By 1604, he had moved north of the river again, to an area north of St Paul\\'s Cathedral with many fine houses. There, he rented rooms from a French Huguenot named Christopher Mountjoy, a maker of women\\'s wigs and other headgear.\\nNicholas Rowe was the first biographer to record the tradition, repeated by Samuel Johnson, that Shakespeare retired to Stratford \"some years before his death\".[58][59] He was still working as an actor in London in 1608; in an answer to the sharers\\' petition in 1635, Cuthbert Burbage stated that after purchasing the lease of the Blackfriars Theatre in 1608 from Henry Evans, the King\\'s Men \"placed men players\" there, \"which were Heminges, Condell, Shakespeare, etc.\".[60] However, it is perhaps relevant that the bubonic plague raged in London throughout 1609.[61][62] The London public playhouses were repeatedly closed during extended outbreaks of the plague (a total of over 60 months closure between May 1603 and February 1610),[63] which meant there was often no acting work. Retirement from all work was uncommon at that time.[64] Shakespeare continued to visit London during the years 1611–1614.[58] In 1612, he was called as a witness in Bellott v Mountjoy, a court case concerning the marriage settlement of Mountjoy\\'s daughter, Mary.[65][66] In March 1613, he bought a gatehouse in the former Blackfriars priory;[67] and from November 1614, he was in London for several weeks with his son-in-law, John Hall.[68] After 1610, Shakespeare wrote fewer plays, and none are attributed to him after 1613.[69] His last three plays were collaborations, probably with John Fletcher,[70] who succeeded him as the house playwright of the King\\'s Men. He retired in 1613, before the Globe Theatre burned down during the performance of Henry VIII on 29 June.[69]\\n\\nShakespeare died on 23 April 1616, at the age of 52.[e] He died within a month of signing his will, a document which he begins by describing himself as being in \"perfect health\". No extant contemporary source explains how or why he died. Half a century later, John Ward, the vicar of Stratford, wrote in his notebook: \"Shakespeare, Drayton, and Ben Jonson had a merry meeting and, it seems, drank too hard, for Shakespeare died of a fever there contracted\",[72][73] not an impossible scenario since Shakespeare knew Jonson and Drayton. Of the tributes from fellow authors, one refers to his relatively sudden death: \"We wondered, Shakespeare, that thou went\\'st so soon / From the world\\'s stage to the grave\\'s tiring room.\"\\nHe was survived by his wife and two daughters. Susanna had married a physician, John Hall, in 1607,[75] and Judith had married Thomas Quiney, a vintner, two months before Shakespeare\\'s death.[76] Shakespeare signed his last will and testament on 25 March 1616; the following day, Thomas Quiney, his new son-in-law, was found guilty of fathering an illegitimate son by Margaret Wheeler, both of whom had died during childbirth. Thomas was ordered by the church court to do public penance, which would have caused much shame and embarrassment for the Shakespeare family.[76]\\n\\nShakespeare bequeathed the bulk of his large estate to his elder daughter Susanna[77] under stipulations that she pass it down intact to \"the first son of her body\".[78] The Quineys had three children, all of whom died without marrying.[79][80] The Halls had one child, Elizabeth, who married twice but died without children in 1670, ending Shakespeare\\'s direct line.[81][82] Shakespeare\\'s will scarcely mentions his wife, Anne, who was probably entitled to one-third of his estate automatically.[g] He did make a point, however, of leaving her \"my second best bed\", a bequest that has led to much speculation.[84][85][86] Some scholars see the bequest as an insult to Anne, whereas others believe that the second-best bed would have been the matrimonial bed and therefore rich in significance\\nShakespeare was buried in the chancel of the Holy Trinity Church two days after his death.[88][89] The epitaph carved into the stone slab covering his grave includes a curse against moving his bones, which was carefully avoided during restoration of the church in 2008:[90]\\n\\nGood frend for Iesvs sake forbeare,\\nTo digg the dvst encloased heare.\\nBleste be yͤ man yͭ spares thes stones,\\nAnd cvrst be he yͭ moves my bones.\\n')]"
      ]
     },
     "execution_count": 4,
     "metadata": {},
     "output_type": "execute_result"
    }
   ],
   "source": [
    "text"
   ]
  },
  {
   "cell_type": "markdown",
   "metadata": {},
   "source": [
    "**Splitting text**"
   ]
  },
  {
   "cell_type": "code",
   "execution_count": 7,
   "metadata": {},
   "outputs": [
    {
     "name": "stderr",
     "output_type": "stream",
     "text": [
      "Created a chunk of size 735, which is longer than the specified 500\n",
      "Created a chunk of size 838, which is longer than the specified 500\n",
      "Created a chunk of size 503, which is longer than the specified 500\n",
      "Created a chunk of size 525, which is longer than the specified 500\n",
      "Created a chunk of size 608, which is longer than the specified 500\n",
      "Created a chunk of size 530, which is longer than the specified 500\n",
      "Created a chunk of size 731, which is longer than the specified 500\n",
      "Created a chunk of size 1375, which is longer than the specified 500\n",
      "Created a chunk of size 666, which is longer than the specified 500\n",
      "Created a chunk of size 599, which is longer than the specified 500\n",
      "Created a chunk of size 1120, which is longer than the specified 500\n",
      "Created a chunk of size 607, which is longer than the specified 500\n",
      "Created a chunk of size 1560, which is longer than the specified 500\n",
      "Created a chunk of size 722, which is longer than the specified 500\n",
      "Created a chunk of size 572, which is longer than the specified 500\n",
      "Created a chunk of size 793, which is longer than the specified 500\n"
     ]
    }
   ],
   "source": [
    "text_splitter = CharacterTextSplitter(separator=\"\\n\",chunk_size=500,chunk_overlap=20)\n",
    "text= text_splitter.split_documents(text)"
   ]
  },
  {
   "cell_type": "markdown",
   "metadata": {},
   "source": [
    "**HuggingFace Embedding on text**"
   ]
  },
  {
   "cell_type": "code",
   "execution_count": 8,
   "metadata": {},
   "outputs": [
    {
     "data": {
      "text/plain": [
       "True"
      ]
     },
     "execution_count": 8,
     "metadata": {},
     "output_type": "execute_result"
    }
   ],
   "source": [
    "import os\n",
    "from dotenv import load_dotenv\n",
    "load_dotenv() # load environment variables from .env file"
   ]
  },
  {
   "cell_type": "code",
   "execution_count": 9,
   "metadata": {},
   "outputs": [],
   "source": [
    "os.environ['Huggingface_API_KEY']=os.getenv(\"Huggingface_API_KEY\")"
   ]
  },
  {
   "cell_type": "code",
   "execution_count": 10,
   "metadata": {},
   "outputs": [
    {
     "name": "stderr",
     "output_type": "stream",
     "text": [
      "c:\\Users\\SPSOFT\\Desktop\\langchain\\venv\\lib\\site-packages\\tqdm\\auto.py:21: TqdmWarning: IProgress not found. Please update jupyter and ipywidgets. See https://ipywidgets.readthedocs.io/en/stable/user_install.html\n",
      "  from .autonotebook import tqdm as notebook_tqdm\n"
     ]
    }
   ],
   "source": [
    "from langchain_huggingface import HuggingFaceEmbeddings\n",
    "embedding = HuggingFaceEmbeddings(model_name=\"all-MiniLM-L6-v2\") # AT THE PLACE OF MODEL WE CAN USE ANY MODEL FROM HUGGINGFACE"
   ]
  },
  {
   "cell_type": "code",
   "execution_count": null,
   "metadata": {},
   "outputs": [],
   "source": [
    "#here we have embedded eachand every sentence separated by splitting technique\n",
    "vector_embeddings = embedding.embed_documents([doc.page_content for doc in text])"
   ]
  },
  {
   "cell_type": "markdown",
   "metadata": {},
   "source": [
    "**FAISS VECTORSTORAGE**"
   ]
  },
  {
   "cell_type": "code",
   "execution_count": 12,
   "metadata": {},
   "outputs": [],
   "source": [
    "db = FAISS.from_documents(text,embedding)"
   ]
  },
  {
   "cell_type": "code",
   "execution_count": 13,
   "metadata": {},
   "outputs": [
    {
     "data": {
      "text/plain": [
       "<langchain_community.vectorstores.faiss.FAISS at 0x20894fa04c0>"
      ]
     },
     "execution_count": 13,
     "metadata": {},
     "output_type": "execute_result"
    }
   ],
   "source": [
    "db"
   ]
  },
  {
   "cell_type": "markdown",
   "metadata": {},
   "source": [
    "**Querying and Searching from VECTORDB**"
   ]
  },
  {
   "cell_type": "code",
   "execution_count": 17,
   "metadata": {},
   "outputs": [
    {
     "name": "stdout",
     "output_type": "stream",
     "text": [
      "William Shakespeare[a] (c. 23[b] April 1564 – 23 April 1616)[c] was an English playwright, poet and actor. He is widely regarded as the greatest writer in the English language and the world's pre-eminent dramatist. He is often called England's national poet and the \"Bard of Avon\" (or simply \"the Bard\"). His extant works, including collaborations, consist of some 39 plays, 154 sonnets, three long narrative poems and a few other verses, some of uncertain authorship. His plays have been translated into every major living language and are performed more often than those of any other playwright. Shakespeare remains arguably the most influential writer in the English language, and his works continue to be studied and reinterpreted.\n",
      "After the birth of the twins, Shakespeare left few historical traces until he is mentioned as part of the London theatre scene in 1592. The exception is the appearance of his name in the \"complaints bill\" of a law case before the Queen's Bench court at Westminster dated Michaelmas Term 1588 and 9 October 1589.[20] Scholars refer to the years between 1585 and 1592 as Shakespeare's \"lost years\".[21] Biographers attempting to account for this period have reported many apocryphal stories. Nicholas Rowe, Shakespeare's first biographer, recounted a Stratford legend that Shakespeare fled the town for London to escape prosecution for deer poaching in the estate of local squire Thomas Lucy. Shakespeare is also supposed to have taken his revenge on Lucy by writing a scurrilous ballad about him.[22][23] Another 18th-century story has Shakespeare starting his theatrical career minding the horses of theatre patrons in London.[24] John Aubrey reported that Shakespeare had been a country schoolmaster.[25] Some 20th-century scholars suggested that Shakespeare may have been employed as a schoolmaster by Alexander Hoghton of Lancashire, a Catholic landowner who named a certain \"William Shakeshafte\" in his will.[26][27] Little evidence substantiates such stories other than hearsay collected after his death, and Shakeshafte was a common name in the Lancashire area.[28][29]\n",
      "Shakespeare was the son of John Shakespeare, an alderman and a successful glover (glove-maker) originally from Snitterfield in Warwickshire, and Mary Arden, the daughter of an affluent landowning family.[3] He was born in Stratford-upon-Avon, where he was baptised on 26 April 1564. His date of birth is unknown but is traditionally observed on 23 April, Saint George's Day.[1] This date, which can be traced to William Oldys and George Steevens, has proved appealing to biographers because Shakespeare died on the same date in 1616.[4][5] He was the third of eight children, and the eldest surviving son.[6]\n",
      "Shakespeare was born and raised in Stratford-upon-Avon, Warwickshire. At the age of 18, he married Anne Hathaway, with whom he had three children: Susanna, and twins Hamnet and Judith. Sometime between 1585 and 1592, he began a successful career in London as an actor, writer, and part-owner (\"sharer\") of a playing company called the Lord Chamberlain's Men, later known as the King's Men after the ascension of King James VI of Scotland to the English throne. At age 49 (around 1613), he appears to have retired to Stratford, where he died three years later. Few records of Shakespeare's private life survive; this has stimulated considerable speculation about such matters as his physical appearance, his sexuality, his religious beliefs and even certain fringe theories as to whether the works attributed to him were written by others.\n"
     ]
    }
   ],
   "source": [
    "query = \"who was william shakespeare?\"\n",
    "docs = db.similarity_search(query)\n",
    "for i in docs:\n",
    "    print(i.page_content)"
   ]
  },
  {
   "cell_type": "markdown",
   "metadata": {},
   "source": [
    "**Retriever ( works as a interface for QUERY n VectorDB / Mostly will be used in future for LLM.)**"
   ]
  },
  {
   "cell_type": "code",
   "execution_count": 19,
   "metadata": {},
   "outputs": [],
   "source": [
    "retriever = db.as_retriever()\n",
    "docs = retriever.invoke(query)"
   ]
  },
  {
   "cell_type": "code",
   "execution_count": 20,
   "metadata": {},
   "outputs": [
    {
     "data": {
      "text/plain": [
       "[Document(id='7020a825-70ef-4ee9-b27d-1e4aa98e0cbb', metadata={'source': 'TEXT_FILE.txt'}, page_content='William Shakespeare[a] (c. 23[b] April 1564 – 23 April 1616)[c] was an English playwright, poet and actor. He is widely regarded as the greatest writer in the English language and the world\\'s pre-eminent dramatist. He is often called England\\'s national poet and the \"Bard of Avon\" (or simply \"the Bard\"). His extant works, including collaborations, consist of some 39 plays, 154 sonnets, three long narrative poems and a few other verses, some of uncertain authorship. His plays have been translated into every major living language and are performed more often than those of any other playwright. Shakespeare remains arguably the most influential writer in the English language, and his works continue to be studied and reinterpreted.'),\n",
       " Document(id='4ad21798-0467-4546-b769-e694567c087d', metadata={'source': 'TEXT_FILE.txt'}, page_content='After the birth of the twins, Shakespeare left few historical traces until he is mentioned as part of the London theatre scene in 1592. The exception is the appearance of his name in the \"complaints bill\" of a law case before the Queen\\'s Bench court at Westminster dated Michaelmas Term 1588 and 9 October 1589.[20] Scholars refer to the years between 1585 and 1592 as Shakespeare\\'s \"lost years\".[21] Biographers attempting to account for this period have reported many apocryphal stories. Nicholas Rowe, Shakespeare\\'s first biographer, recounted a Stratford legend that Shakespeare fled the town for London to escape prosecution for deer poaching in the estate of local squire Thomas Lucy. Shakespeare is also supposed to have taken his revenge on Lucy by writing a scurrilous ballad about him.[22][23] Another 18th-century story has Shakespeare starting his theatrical career minding the horses of theatre patrons in London.[24] John Aubrey reported that Shakespeare had been a country schoolmaster.[25] Some 20th-century scholars suggested that Shakespeare may have been employed as a schoolmaster by Alexander Hoghton of Lancashire, a Catholic landowner who named a certain \"William Shakeshafte\" in his will.[26][27] Little evidence substantiates such stories other than hearsay collected after his death, and Shakeshafte was a common name in the Lancashire area.[28][29]'),\n",
       " Document(id='eb4b53ce-e90d-4855-87f6-294fb855f319', metadata={'source': 'TEXT_FILE.txt'}, page_content=\"Shakespeare was the son of John Shakespeare, an alderman and a successful glover (glove-maker) originally from Snitterfield in Warwickshire, and Mary Arden, the daughter of an affluent landowning family.[3] He was born in Stratford-upon-Avon, where he was baptised on 26 April 1564. His date of birth is unknown but is traditionally observed on 23 April, Saint George's Day.[1] This date, which can be traced to William Oldys and George Steevens, has proved appealing to biographers because Shakespeare died on the same date in 1616.[4][5] He was the third of eight children, and the eldest surviving son.[6]\"),\n",
       " Document(id='25e1169a-a288-4c07-b58c-333a9a32552b', metadata={'source': 'TEXT_FILE.txt'}, page_content='Shakespeare was born and raised in Stratford-upon-Avon, Warwickshire. At the age of 18, he married Anne Hathaway, with whom he had three children: Susanna, and twins Hamnet and Judith. Sometime between 1585 and 1592, he began a successful career in London as an actor, writer, and part-owner (\"sharer\") of a playing company called the Lord Chamberlain\\'s Men, later known as the King\\'s Men after the ascension of King James VI of Scotland to the English throne. At age 49 (around 1613), he appears to have retired to Stratford, where he died three years later. Few records of Shakespeare\\'s private life survive; this has stimulated considerable speculation about such matters as his physical appearance, his sexuality, his religious beliefs and even certain fringe theories as to whether the works attributed to him were written by others.')]"
      ]
     },
     "execution_count": 20,
     "metadata": {},
     "output_type": "execute_result"
    }
   ],
   "source": [
    "docs"
   ]
  },
  {
   "cell_type": "markdown",
   "metadata": {},
   "source": [
    "**Similarity Search with Score**\n",
    "\n",
    "#this will allows to not only to return output for the query but also allows to give the distance score of the query to them. (AS LOW, AS GOOD)"
   ]
  },
  {
   "cell_type": "code",
   "execution_count": null,
   "metadata": {},
   "outputs": [
    {
     "data": {
      "text/plain": [
       "[(Document(id='7020a825-70ef-4ee9-b27d-1e4aa98e0cbb', metadata={'source': 'TEXT_FILE.txt'}, page_content='William Shakespeare[a] (c. 23[b] April 1564 – 23 April 1616)[c] was an English playwright, poet and actor. He is widely regarded as the greatest writer in the English language and the world\\'s pre-eminent dramatist. He is often called England\\'s national poet and the \"Bard of Avon\" (or simply \"the Bard\"). His extant works, including collaborations, consist of some 39 plays, 154 sonnets, three long narrative poems and a few other verses, some of uncertain authorship. His plays have been translated into every major living language and are performed more often than those of any other playwright. Shakespeare remains arguably the most influential writer in the English language, and his works continue to be studied and reinterpreted.'),\n",
       "  np.float32(0.69037426)),\n",
       " (Document(id='4ad21798-0467-4546-b769-e694567c087d', metadata={'source': 'TEXT_FILE.txt'}, page_content='After the birth of the twins, Shakespeare left few historical traces until he is mentioned as part of the London theatre scene in 1592. The exception is the appearance of his name in the \"complaints bill\" of a law case before the Queen\\'s Bench court at Westminster dated Michaelmas Term 1588 and 9 October 1589.[20] Scholars refer to the years between 1585 and 1592 as Shakespeare\\'s \"lost years\".[21] Biographers attempting to account for this period have reported many apocryphal stories. Nicholas Rowe, Shakespeare\\'s first biographer, recounted a Stratford legend that Shakespeare fled the town for London to escape prosecution for deer poaching in the estate of local squire Thomas Lucy. Shakespeare is also supposed to have taken his revenge on Lucy by writing a scurrilous ballad about him.[22][23] Another 18th-century story has Shakespeare starting his theatrical career minding the horses of theatre patrons in London.[24] John Aubrey reported that Shakespeare had been a country schoolmaster.[25] Some 20th-century scholars suggested that Shakespeare may have been employed as a schoolmaster by Alexander Hoghton of Lancashire, a Catholic landowner who named a certain \"William Shakeshafte\" in his will.[26][27] Little evidence substantiates such stories other than hearsay collected after his death, and Shakeshafte was a common name in the Lancashire area.[28][29]'),\n",
       "  np.float32(0.75087196)),\n",
       " (Document(id='eb4b53ce-e90d-4855-87f6-294fb855f319', metadata={'source': 'TEXT_FILE.txt'}, page_content=\"Shakespeare was the son of John Shakespeare, an alderman and a successful glover (glove-maker) originally from Snitterfield in Warwickshire, and Mary Arden, the daughter of an affluent landowning family.[3] He was born in Stratford-upon-Avon, where he was baptised on 26 April 1564. His date of birth is unknown but is traditionally observed on 23 April, Saint George's Day.[1] This date, which can be traced to William Oldys and George Steevens, has proved appealing to biographers because Shakespeare died on the same date in 1616.[4][5] He was the third of eight children, and the eldest surviving son.[6]\"),\n",
       "  np.float32(0.78399694)),\n",
       " (Document(id='25e1169a-a288-4c07-b58c-333a9a32552b', metadata={'source': 'TEXT_FILE.txt'}, page_content='Shakespeare was born and raised in Stratford-upon-Avon, Warwickshire. At the age of 18, he married Anne Hathaway, with whom he had three children: Susanna, and twins Hamnet and Judith. Sometime between 1585 and 1592, he began a successful career in London as an actor, writer, and part-owner (\"sharer\") of a playing company called the Lord Chamberlain\\'s Men, later known as the King\\'s Men after the ascension of King James VI of Scotland to the English throne. At age 49 (around 1613), he appears to have retired to Stratford, where he died three years later. Few records of Shakespeare\\'s private life survive; this has stimulated considerable speculation about such matters as his physical appearance, his sexuality, his religious beliefs and even certain fringe theories as to whether the works attributed to him were written by others.'),\n",
       "  np.float32(0.7902734))]"
      ]
     },
     "execution_count": 21,
     "metadata": {},
     "output_type": "execute_result"
    }
   ],
   "source": [
    "docs_and_scores = db.similarity_search_with_score(query)\n",
    "docs_and_scores"
   ]
  },
  {
   "cell_type": "markdown",
   "metadata": {},
   "source": [
    "**Getting output by input Query**"
   ]
  },
  {
   "cell_type": "code",
   "execution_count": 22,
   "metadata": {},
   "outputs": [
    {
     "data": {
      "text/plain": [
       "[0.025181980803608894,\n",
       " 0.017569134011864662,\n",
       " 0.06538469344377518,\n",
       " 0.00991843082010746,\n",
       " -0.048630114644765854,\n",
       " 0.052188046276569366,\n",
       " 0.08272631466388702,\n",
       " -0.01785614900290966,\n",
       " -0.012043516151607037,\n",
       " 0.07280828058719635,\n",
       " -0.02595778927206993,\n",
       " -0.027289986610412598,\n",
       " -0.04074171558022499,\n",
       " -0.009890916757285595,\n",
       " -0.008904434740543365,\n",
       " 0.016340769827365875,\n",
       " -0.03639690577983856,\n",
       " 0.02306036278605461,\n",
       " -0.04665011540055275,\n",
       " -0.044065240770578384,\n",
       " -0.009663651697337627,\n",
       " -0.00022220458777155727,\n",
       " -0.019777797162532806,\n",
       " -0.0321551151573658,\n",
       " -0.0035644706804305315,\n",
       " 0.005115368403494358,\n",
       " 0.001110594137571752,\n",
       " -0.0025122344959527254,\n",
       " -0.02752426080405712,\n",
       " 0.009789826348423958,\n",
       " -0.04984106123447418,\n",
       " -0.11448453366756439,\n",
       " 0.02452218532562256,\n",
       " -0.057941559702157974,\n",
       " -0.03269447386264801,\n",
       " -0.0032452032901346684,\n",
       " 0.025084713473916054,\n",
       " 0.06699496507644653,\n",
       " -0.020892325788736343,\n",
       " -0.021935930475592613,\n",
       " -0.004743832163512707,\n",
       " -0.024955766275525093,\n",
       " -0.00039540158468298614,\n",
       " 0.05577416345477104,\n",
       " -0.037326835095882416,\n",
       " -0.05610158294439316,\n",
       " -0.015877917408943176,\n",
       " -0.01455644890666008,\n",
       " 0.039526380598545074,\n",
       " 0.12945497035980225,\n",
       " -0.031028591096401215,\n",
       " 0.06606607884168625,\n",
       " -0.03488764539361,\n",
       " -0.06499151140451431,\n",
       " 5.2667659474536777e-05,\n",
       " 0.025135153904557228,\n",
       " 0.025369320064783096,\n",
       " 0.09238031506538391,\n",
       " 0.055150337517261505,\n",
       " -0.027248980477452278,\n",
       " -0.047671712934970856,\n",
       " -0.004100908059626818,\n",
       " -0.04437516629695892,\n",
       " 0.061210982501506805,\n",
       " 0.04539668932557106,\n",
       " 0.011688013561069965,\n",
       " 0.015926474705338478,\n",
       " -0.02123182825744152,\n",
       " -0.050396908074617386,\n",
       " 0.009886784479022026,\n",
       " -0.06003831326961517,\n",
       " -0.02230125479400158,\n",
       " 0.028117306530475616,\n",
       " -0.05570727959275246,\n",
       " -0.015011928975582123,\n",
       " -0.029306014999747276,\n",
       " -0.0035427764523774385,\n",
       " 0.00210868613794446,\n",
       " -0.0699547603726387,\n",
       " 0.06645649671554565,\n",
       " -0.015004667453467846,\n",
       " 0.0004100306541658938,\n",
       " -0.050749484449625015,\n",
       " 0.019655920565128326,\n",
       " -0.05721299350261688,\n",
       " -0.03236827254295349,\n",
       " 0.0394081175327301,\n",
       " -0.03872423991560936,\n",
       " 0.01411469653248787,\n",
       " -0.050114963203668594,\n",
       " 0.0011192250531166792,\n",
       " -0.08815712481737137,\n",
       " -0.044514965265989304,\n",
       " 0.10416664928197861,\n",
       " -0.030267970636487007,\n",
       " 0.061153702437877655,\n",
       " 0.005274626892060041,\n",
       " 0.0044208974577486515,\n",
       " -0.05264722555875778,\n",
       " 0.0752279981970787,\n",
       " 0.009422658011317253,\n",
       " -0.0158101636916399,\n",
       " -0.006804209668189287,\n",
       " 0.08575215935707092,\n",
       " -0.04335285723209381,\n",
       " 0.010389919392764568,\n",
       " -0.031328167766332626,\n",
       " -0.035886120051145554,\n",
       " 0.005561834201216698,\n",
       " -0.030839961022138596,\n",
       " -0.025735609233379364,\n",
       " -0.015142650343477726,\n",
       " 0.08810718357563019,\n",
       " 0.036283355206251144,\n",
       " 0.06248314678668976,\n",
       " -0.001878272509202361,\n",
       " 0.02142023667693138,\n",
       " 0.03494210168719292,\n",
       " -0.02527553401887417,\n",
       " -0.0031256109941750765,\n",
       " 0.07975191622972488,\n",
       " 0.02627834677696228,\n",
       " 0.025176215916872025,\n",
       " 0.012198398821055889,\n",
       " -0.05671694129705429,\n",
       " 0.01747608743607998,\n",
       " 0.02469141222536564,\n",
       " -5.301544909081781e-33,\n",
       " -0.028495492413640022,\n",
       " -0.02268386073410511,\n",
       " 0.07245293259620667,\n",
       " 0.07250644266605377,\n",
       " -0.00830032303929329,\n",
       " -0.0430292971432209,\n",
       " 0.014384678564965725,\n",
       " -0.009700807742774487,\n",
       " -0.02031664177775383,\n",
       " -0.06413739919662476,\n",
       " 0.015147237107157707,\n",
       " -0.10155878216028214,\n",
       " -0.015176167711615562,\n",
       " -0.03308078274130821,\n",
       " -0.015032617375254631,\n",
       " 0.08099387586116791,\n",
       " 0.021434832364320755,\n",
       " 0.010049467906355858,\n",
       " 0.009782662615180016,\n",
       " -0.035617440938949585,\n",
       " -0.06353553384542465,\n",
       " 0.11993656307458878,\n",
       " 0.058032553642988205,\n",
       " 0.007928626611828804,\n",
       " -0.07297244668006897,\n",
       " -0.01474702637642622,\n",
       " 0.06176428124308586,\n",
       " 0.07767628878355026,\n",
       " 0.06577350199222565,\n",
       " 0.0185060016810894,\n",
       " 0.06813066452741623,\n",
       " 0.05637048929929733,\n",
       " -0.006743034813553095,\n",
       " 0.03538491204380989,\n",
       " 0.0797668918967247,\n",
       " 0.006424690596759319,\n",
       " -0.13077418506145477,\n",
       " -0.09564036875963211,\n",
       " 0.05453141778707504,\n",
       " 0.0120324045419693,\n",
       " 0.007692681159824133,\n",
       " 0.04579923674464226,\n",
       " 0.04960101097822189,\n",
       " 0.004675778094679117,\n",
       " -0.08154015988111496,\n",
       " -0.06434071063995361,\n",
       " -0.09280700981616974,\n",
       " 0.024099577218294144,\n",
       " 0.013356994837522507,\n",
       " 0.02515101432800293,\n",
       " 0.01989295519888401,\n",
       " 0.02759951911866665,\n",
       " -0.014673183672130108,\n",
       " -0.0026260383892804384,\n",
       " 0.02789732813835144,\n",
       " 0.003580984892323613,\n",
       " -0.04501975700259209,\n",
       " 0.031741343438625336,\n",
       " -0.0015615078154951334,\n",
       " -0.01156686618924141,\n",
       " 0.06741373986005783,\n",
       " 0.0432722270488739,\n",
       " 0.10253578424453735,\n",
       " 0.10394108295440674,\n",
       " -0.020736437290906906,\n",
       " -0.050190094858407974,\n",
       " 0.008832997642457485,\n",
       " -0.015150785446166992,\n",
       " 0.05341912806034088,\n",
       " -0.05297129973769188,\n",
       " -0.008010029792785645,\n",
       " 0.07372519373893738,\n",
       " -0.030650781467556953,\n",
       " 0.005811023525893688,\n",
       " -0.02895824797451496,\n",
       " -0.0037308172322809696,\n",
       " -0.029199490323662758,\n",
       " -0.0057757264003157616,\n",
       " -0.07719635218381882,\n",
       " -0.00728761637583375,\n",
       " -0.09072766453027725,\n",
       " -0.06350918859243393,\n",
       " -0.015201621688902378,\n",
       " -0.0014079968677833676,\n",
       " -0.10325848311185837,\n",
       " -0.0664871484041214,\n",
       " -0.05614681914448738,\n",
       " -0.006090523209422827,\n",
       " 0.07765129208564758,\n",
       " 0.06287993490695953,\n",
       " -0.05366230756044388,\n",
       " -0.015430890023708344,\n",
       " -0.11468522250652313,\n",
       " -0.08360294997692108,\n",
       " -0.05871402099728584,\n",
       " 2.7343199808416154e-33,\n",
       " -0.024469031020998955,\n",
       " -0.008754244074225426,\n",
       " 0.04424019530415535,\n",
       " 0.10712811350822449,\n",
       " -0.0297255739569664,\n",
       " -0.08410080522298813,\n",
       " 0.04956955835223198,\n",
       " 0.039897769689559937,\n",
       " 0.025671837851405144,\n",
       " 0.013120085932314396,\n",
       " -0.022837186232209206,\n",
       " -0.020452648401260376,\n",
       " 0.03968850150704384,\n",
       " -0.054949212819337845,\n",
       " 0.062419865280389786,\n",
       " 0.061769433319568634,\n",
       " 0.08152548968791962,\n",
       " -0.058929797261953354,\n",
       " 0.02322719246149063,\n",
       " -0.010866202414035797,\n",
       " -0.03514482453465462,\n",
       " 0.020822741091251373,\n",
       " -0.12220446020364761,\n",
       " -0.10967548191547394,\n",
       " -0.021167747676372528,\n",
       " -0.012701480649411678,\n",
       " -0.0007182030822150409,\n",
       " -0.03376515582203865,\n",
       " -0.12652865052223206,\n",
       " -0.01003575325012207,\n",
       " 0.058885011821985245,\n",
       " 0.129510298371315,\n",
       " -0.03732115775346756,\n",
       " -0.04663070663809776,\n",
       " -0.039986733347177505,\n",
       " 0.01517717819660902,\n",
       " 0.10352072864770889,\n",
       " -0.007955877110362053,\n",
       " 0.0747174471616745,\n",
       " 0.034919582307338715,\n",
       " 0.06083301827311516,\n",
       " -0.005232371389865875,\n",
       " 0.0662931501865387,\n",
       " 0.020412223413586617,\n",
       " 0.02149331383407116,\n",
       " -0.012305217795073986,\n",
       " -0.07545522600412369,\n",
       " -0.02243908680975437,\n",
       " 0.03875241428613663,\n",
       " 0.03182995691895485,\n",
       " -0.07882344722747803,\n",
       " 0.035409681499004364,\n",
       " 0.08473361283540726,\n",
       " -0.043167486786842346,\n",
       " 0.08246840536594391,\n",
       " -0.049870576709508896,\n",
       " -0.008128500543534756,\n",
       " -0.015724919736385345,\n",
       " -0.06351220607757568,\n",
       " 0.04575081914663315,\n",
       " 0.005031474865972996,\n",
       " 0.005741179455071688,\n",
       " -0.02984081581234932,\n",
       " -0.014987397007644176,\n",
       " 0.0331321656703949,\n",
       " 0.10152515023946762,\n",
       " -0.06752492487430573,\n",
       " 0.02626505307853222,\n",
       " -0.040307193994522095,\n",
       " -0.08073952794075012,\n",
       " 0.10175978392362595,\n",
       " -0.08818832039833069,\n",
       " 0.047366660088300705,\n",
       " 0.03077920712530613,\n",
       " -0.05048258230090141,\n",
       " -0.007162762340158224,\n",
       " 0.008547226898372173,\n",
       " 0.001694733975455165,\n",
       " -0.05317623168230057,\n",
       " -0.061339255422353745,\n",
       " -0.01876668818295002,\n",
       " -0.09001478552818298,\n",
       " 0.03347671031951904,\n",
       " -0.016287576407194138,\n",
       " -0.08230413496494293,\n",
       " 0.0178107600659132,\n",
       " 0.04232209175825119,\n",
       " -0.014546370133757591,\n",
       " -0.04438795521855354,\n",
       " 0.035158462822437286,\n",
       " 0.052257560193538666,\n",
       " -0.0703849047422409,\n",
       " 0.0413750521838665,\n",
       " -0.04231219366192818,\n",
       " 0.10489394515752792,\n",
       " -1.456024367740838e-08,\n",
       " -0.008470180444419384,\n",
       " 0.01786300353705883,\n",
       " -0.0341830812394619,\n",
       " 0.006416871678084135,\n",
       " -0.0804578885436058,\n",
       " 0.08344069123268127,\n",
       " 0.04309340938925743,\n",
       " 0.048778779804706573,\n",
       " 0.017725002020597458,\n",
       " 0.07901552319526672,\n",
       " 0.003000641241669655,\n",
       " -0.005196287762373686,\n",
       " 0.08995544165372849,\n",
       " -0.04549933969974518,\n",
       " 0.06484489887952805,\n",
       " 0.013423757627606392,\n",
       " 0.028771257027983665,\n",
       " -0.004105548374354839,\n",
       " -0.07392482459545135,\n",
       " 0.04665946215391159,\n",
       " 0.015072121284902096,\n",
       " 0.00932346098124981,\n",
       " -0.01115293987095356,\n",
       " -0.021454153582453728,\n",
       " -0.015355249866843224,\n",
       " 0.04311420023441315,\n",
       " 0.08668597787618637,\n",
       " 0.004069184884428978,\n",
       " -0.027216440066695213,\n",
       " -0.014181496575474739,\n",
       " -0.03638139367103577,\n",
       " 0.04269443452358246,\n",
       " -0.01760285161435604,\n",
       " -0.09736960381269455,\n",
       " -0.05648035183548927,\n",
       " 0.06282486021518707,\n",
       " -0.007692081853747368,\n",
       " -0.02773541398346424,\n",
       " 0.06923893839120865,\n",
       " 0.018216082826256752,\n",
       " -0.043430671095848083,\n",
       " 0.17609825730323792,\n",
       " -0.030693164095282555,\n",
       " 0.011278379708528519,\n",
       " 0.12458288669586182,\n",
       " 0.03580017015337944,\n",
       " -0.06821966171264648,\n",
       " 0.029330316931009293,\n",
       " -0.046201374381780624,\n",
       " -0.040258292108774185,\n",
       " -0.01217583566904068,\n",
       " 0.0652518942952156,\n",
       " 0.11042800545692444,\n",
       " 0.02064785361289978,\n",
       " 0.015890613198280334,\n",
       " -0.08421482890844345,\n",
       " 0.01886364445090294,\n",
       " 0.0824107676744461,\n",
       " -0.09266655147075653,\n",
       " -0.015450891107320786,\n",
       " 0.048403024673461914,\n",
       " 0.009477130137383938,\n",
       " 0.04344119131565094,\n",
       " -0.09491989761590958]"
      ]
     },
     "execution_count": 22,
     "metadata": {},
     "output_type": "execute_result"
    }
   ],
   "source": [
    "embedding_vector = embedding.embed_query(query)\n",
    "embedding_vector"
   ]
  },
  {
   "cell_type": "code",
   "execution_count": 26,
   "metadata": {},
   "outputs": [
    {
     "data": {
      "text/plain": [
       "[Document(id='7020a825-70ef-4ee9-b27d-1e4aa98e0cbb', metadata={'source': 'TEXT_FILE.txt'}, page_content='William Shakespeare[a] (c. 23[b] April 1564 – 23 April 1616)[c] was an English playwright, poet and actor. He is widely regarded as the greatest writer in the English language and the world\\'s pre-eminent dramatist. He is often called England\\'s national poet and the \"Bard of Avon\" (or simply \"the Bard\"). His extant works, including collaborations, consist of some 39 plays, 154 sonnets, three long narrative poems and a few other verses, some of uncertain authorship. His plays have been translated into every major living language and are performed more often than those of any other playwright. Shakespeare remains arguably the most influential writer in the English language, and his works continue to be studied and reinterpreted.'),\n",
       " Document(id='4ad21798-0467-4546-b769-e694567c087d', metadata={'source': 'TEXT_FILE.txt'}, page_content='After the birth of the twins, Shakespeare left few historical traces until he is mentioned as part of the London theatre scene in 1592. The exception is the appearance of his name in the \"complaints bill\" of a law case before the Queen\\'s Bench court at Westminster dated Michaelmas Term 1588 and 9 October 1589.[20] Scholars refer to the years between 1585 and 1592 as Shakespeare\\'s \"lost years\".[21] Biographers attempting to account for this period have reported many apocryphal stories. Nicholas Rowe, Shakespeare\\'s first biographer, recounted a Stratford legend that Shakespeare fled the town for London to escape prosecution for deer poaching in the estate of local squire Thomas Lucy. Shakespeare is also supposed to have taken his revenge on Lucy by writing a scurrilous ballad about him.[22][23] Another 18th-century story has Shakespeare starting his theatrical career minding the horses of theatre patrons in London.[24] John Aubrey reported that Shakespeare had been a country schoolmaster.[25] Some 20th-century scholars suggested that Shakespeare may have been employed as a schoolmaster by Alexander Hoghton of Lancashire, a Catholic landowner who named a certain \"William Shakeshafte\" in his will.[26][27] Little evidence substantiates such stories other than hearsay collected after his death, and Shakeshafte was a common name in the Lancashire area.[28][29]'),\n",
       " Document(id='eb4b53ce-e90d-4855-87f6-294fb855f319', metadata={'source': 'TEXT_FILE.txt'}, page_content=\"Shakespeare was the son of John Shakespeare, an alderman and a successful glover (glove-maker) originally from Snitterfield in Warwickshire, and Mary Arden, the daughter of an affluent landowning family.[3] He was born in Stratford-upon-Avon, where he was baptised on 26 April 1564. His date of birth is unknown but is traditionally observed on 23 April, Saint George's Day.[1] This date, which can be traced to William Oldys and George Steevens, has proved appealing to biographers because Shakespeare died on the same date in 1616.[4][5] He was the third of eight children, and the eldest surviving son.[6]\"),\n",
       " Document(id='25e1169a-a288-4c07-b58c-333a9a32552b', metadata={'source': 'TEXT_FILE.txt'}, page_content='Shakespeare was born and raised in Stratford-upon-Avon, Warwickshire. At the age of 18, he married Anne Hathaway, with whom he had three children: Susanna, and twins Hamnet and Judith. Sometime between 1585 and 1592, he began a successful career in London as an actor, writer, and part-owner (\"sharer\") of a playing company called the Lord Chamberlain\\'s Men, later known as the King\\'s Men after the ascension of King James VI of Scotland to the English throne. At age 49 (around 1613), he appears to have retired to Stratford, where he died three years later. Few records of Shakespeare\\'s private life survive; this has stimulated considerable speculation about such matters as his physical appearance, his sexuality, his religious beliefs and even certain fringe theories as to whether the works attributed to him were written by others.')]"
      ]
     },
     "execution_count": 26,
     "metadata": {},
     "output_type": "execute_result"
    }
   ],
   "source": [
    "vec_docs = db.similarity_search_by_vector(embedding_vector)\n",
    "vec_docs"
   ]
  },
  {
   "cell_type": "markdown",
   "metadata": {},
   "source": [
    "**Saving VectorDB as pickle file**"
   ]
  },
  {
   "cell_type": "code",
   "execution_count": 29,
   "metadata": {},
   "outputs": [],
   "source": [
    "db.save_local(\"faiss_index\")"
   ]
  },
  {
   "cell_type": "markdown",
   "metadata": {},
   "source": [
    "**Load the saved VECTORDB pickle file**"
   ]
  },
  {
   "cell_type": "code",
   "execution_count": null,
   "metadata": {},
   "outputs": [],
   "source": [
    "#loading the saved index\n",
    "vector_db = FAISS.load_local(\"faiss_index\",embedding,allow_dangerous_deserialization=True)"
   ]
  },
  {
   "cell_type": "code",
   "execution_count": 35,
   "metadata": {},
   "outputs": [
    {
     "data": {
      "text/plain": [
       "[Document(id='7020a825-70ef-4ee9-b27d-1e4aa98e0cbb', metadata={'source': 'TEXT_FILE.txt'}, page_content='William Shakespeare[a] (c. 23[b] April 1564 – 23 April 1616)[c] was an English playwright, poet and actor. He is widely regarded as the greatest writer in the English language and the world\\'s pre-eminent dramatist. He is often called England\\'s national poet and the \"Bard of Avon\" (or simply \"the Bard\"). His extant works, including collaborations, consist of some 39 plays, 154 sonnets, three long narrative poems and a few other verses, some of uncertain authorship. His plays have been translated into every major living language and are performed more often than those of any other playwright. Shakespeare remains arguably the most influential writer in the English language, and his works continue to be studied and reinterpreted.'),\n",
       " Document(id='4ad21798-0467-4546-b769-e694567c087d', metadata={'source': 'TEXT_FILE.txt'}, page_content='After the birth of the twins, Shakespeare left few historical traces until he is mentioned as part of the London theatre scene in 1592. The exception is the appearance of his name in the \"complaints bill\" of a law case before the Queen\\'s Bench court at Westminster dated Michaelmas Term 1588 and 9 October 1589.[20] Scholars refer to the years between 1585 and 1592 as Shakespeare\\'s \"lost years\".[21] Biographers attempting to account for this period have reported many apocryphal stories. Nicholas Rowe, Shakespeare\\'s first biographer, recounted a Stratford legend that Shakespeare fled the town for London to escape prosecution for deer poaching in the estate of local squire Thomas Lucy. Shakespeare is also supposed to have taken his revenge on Lucy by writing a scurrilous ballad about him.[22][23] Another 18th-century story has Shakespeare starting his theatrical career minding the horses of theatre patrons in London.[24] John Aubrey reported that Shakespeare had been a country schoolmaster.[25] Some 20th-century scholars suggested that Shakespeare may have been employed as a schoolmaster by Alexander Hoghton of Lancashire, a Catholic landowner who named a certain \"William Shakeshafte\" in his will.[26][27] Little evidence substantiates such stories other than hearsay collected after his death, and Shakeshafte was a common name in the Lancashire area.[28][29]'),\n",
       " Document(id='eb4b53ce-e90d-4855-87f6-294fb855f319', metadata={'source': 'TEXT_FILE.txt'}, page_content=\"Shakespeare was the son of John Shakespeare, an alderman and a successful glover (glove-maker) originally from Snitterfield in Warwickshire, and Mary Arden, the daughter of an affluent landowning family.[3] He was born in Stratford-upon-Avon, where he was baptised on 26 April 1564. His date of birth is unknown but is traditionally observed on 23 April, Saint George's Day.[1] This date, which can be traced to William Oldys and George Steevens, has proved appealing to biographers because Shakespeare died on the same date in 1616.[4][5] He was the third of eight children, and the eldest surviving son.[6]\"),\n",
       " Document(id='25e1169a-a288-4c07-b58c-333a9a32552b', metadata={'source': 'TEXT_FILE.txt'}, page_content='Shakespeare was born and raised in Stratford-upon-Avon, Warwickshire. At the age of 18, he married Anne Hathaway, with whom he had three children: Susanna, and twins Hamnet and Judith. Sometime between 1585 and 1592, he began a successful career in London as an actor, writer, and part-owner (\"sharer\") of a playing company called the Lord Chamberlain\\'s Men, later known as the King\\'s Men after the ascension of King James VI of Scotland to the English throne. At age 49 (around 1613), he appears to have retired to Stratford, where he died three years later. Few records of Shakespeare\\'s private life survive; this has stimulated considerable speculation about such matters as his physical appearance, his sexuality, his religious beliefs and even certain fringe theories as to whether the works attributed to him were written by others.')]"
      ]
     },
     "execution_count": 35,
     "metadata": {},
     "output_type": "execute_result"
    }
   ],
   "source": [
    "# Just searching the output for query from the loaded index\n",
    "query = \"who was william shakespeare?\"\n",
    "docs = vector_db.similarity_search(query)\n",
    "docs"
   ]
  }
 ],
 "metadata": {
  "kernelspec": {
   "display_name": "Python 3",
   "language": "python",
   "name": "python3"
  },
  "language_info": {
   "codemirror_mode": {
    "name": "ipython",
    "version": 3
   },
   "file_extension": ".py",
   "mimetype": "text/x-python",
   "name": "python",
   "nbconvert_exporter": "python",
   "pygments_lexer": "ipython3",
   "version": "3.10.16"
  }
 },
 "nbformat": 4,
 "nbformat_minor": 2
}
